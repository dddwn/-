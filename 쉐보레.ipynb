{
 "cells": [
  {
   "cell_type": "code",
   "execution_count": 17,
   "id": "e331da75-04f5-4de2-ad66-a5d17bb1d59e",
   "metadata": {},
   "outputs": [
    {
     "name": "stdout",
     "output_type": "stream",
     "text": [
      "           업체명                             주소            전화번호\n",
      "0      강서바로서비스           서울 강서구 까치산로 63 (화곡동)    02-2663-0400\n",
      "1     동일산서비스센터      경기 고양시 일산동구 성현로 195 (성석동)    031-977-8779\n",
      "2      덕양바로서비스  경기 고양시 덕양구 은빛로17번길 5-29 (화정동)    031-968-8222\n",
      "3      역삼지정서비스        서울 강남구 언주로 108길 6 (역삼동)     02-538-0085\n",
      "4      신진지정서비스        서울 금천구 남부순환로 1408 (독산동)     02-855-8204\n",
      "..         ...                            ...             ...\n",
      "341    천안서비스센터     충남 천안시 서북구 두정공단1길 51 (두정동)  041-555-6182~3\n",
      "342    홍성서비스센터     충남 홍성군 홍성읍 충서로 1216번길 6-34  041-634-8254~5\n",
      "343    논산바로서비스            충남 논산시 시민로 106 (내동)    041-735-8255\n",
      "344   남천안서비스센터       충남 천안시 동남구 충절로 455 (삼룡동)    041-567-7288\n",
      "345  포항상도지정서비스               경북 포항시 남구 중섬로 65    054-282-1614\n",
      "\n",
      "[346 rows x 3 columns]\n"
     ]
    }
   ],
   "source": [
    "from selenium import webdriver\n",
    "from selenium.webdriver.common.by import By\n",
    "from selenium.webdriver.support.ui import WebDriverWait\n",
    "from selenium.webdriver.support import expected_conditions as EC\n",
    "import pandas as pd\n",
    "\n",
    "# WebDriver 실행 (기본 경로 사용)\n",
    "driver = webdriver.Chrome()\n",
    "\n",
    "# 웹페이지에 접속\n",
    "driver.get('https://www.chevrolet.co.kr/chevy/as-reserve.gm') \n",
    "\n",
    "# 예약 희망 날짜 선택2 요소가 나타날 때까지 기다림\n",
    "WebDriverWait(driver, 10).until(\n",
    "    EC.presence_of_element_located((By.ID, 'reservationDate2'))\n",
    ")\n",
    "\n",
    "# 예약 희망 날짜 선택2를 가장 마지막 날짜로 선택\n",
    "reservation_date_select = driver.find_element(By.ID, 'reservationDate2')\n",
    "options = reservation_date_select.find_elements(By.TAG_NAME, 'option')\n",
    "options[-1].click()  # 가장 마지막 옵션 선택\n",
    "\n",
    "# \"검색\" 버튼이 나타날 때까지 기다린 후 클릭\n",
    "WebDriverWait(driver, 10).until(\n",
    "    EC.element_to_be_clickable((By.ID, 'btnSearch'))\n",
    ").click()\n",
    "\n",
    "# complete_area가 나타날 때까지 기다림\n",
    "WebDriverWait(driver, 10).until(\n",
    "    EC.presence_of_element_located((By.CLASS_NAME, 'complete_area'))\n",
    ")\n",
    "\n",
    "# complete_area 내부의 ul li 요소를 찾음\n",
    "complete_area = driver.find_element(By.CLASS_NAME, 'complete_area')\n",
    "list_items = complete_area.find_elements(By.CSS_SELECTOR, \"ul li\")\n",
    "\n",
    "# 업체 정보 수집\n",
    "store_names = []\n",
    "addresses = []\n",
    "phone_numbers = []\n",
    "\n",
    "for item in list_items:\n",
    "    # 업체명\n",
    "    name = item.find_element(By.CSS_SELECTOR, \"p.center span\").text\n",
    "    # 주소\n",
    "    address = item.find_element(By.CSS_SELECTOR, \"p.adress span\").text\n",
    "    # 전화번호\n",
    "    phone = item.find_element(By.CSS_SELECTOR, \"p.tel span\").text\n",
    "    \n",
    "    store_names.append(name)\n",
    "    addresses.append(address)\n",
    "    phone_numbers.append(phone)\n",
    "\n",
    "# DataFrame 생성\n",
    "df = pd.DataFrame({\n",
    "    '업체명': store_names,\n",
    "    '주소': addresses,\n",
    "    '전화번호': phone_numbers\n",
    "})\n",
    "\n",
    "# DataFrame 확인\n",
    "print(df)"
   ]
  },
  {
   "cell_type": "code",
   "execution_count": 19,
   "id": "5912dbd8-9aa3-45f3-aa20-acc9f56fb20e",
   "metadata": {},
   "outputs": [],
   "source": [
    "df['주소'] = df['주소'].str.replace('특별시|광역시|특별자치도|특별자치시', '', regex=True)\n",
    "df['주소'] = df['주소'].str.replace('경기도', '경기', regex=False)\n",
    "df['주소'] = df['주소'].str.replace('강원도', '강원', regex=False)\n",
    "df['주소'] = df['주소'].str.replace('충청북도', '충북', regex=False)\n",
    "df['주소'] = df['주소'].str.replace('충청남도', '충남', regex=False)\n",
    "df['주소'] = df['주소'].str.replace('전라북도', '전북', regex=False)\n",
    "df['주소'] = df['주소'].str.replace('전라남도', '전남', regex=False)\n",
    "df['주소'] = df['주소'].str.replace('경상북도', '경북', regex=False)\n",
    "df['주소'] = df['주소'].str.replace('경상남도', '경남', regex=False)\n",
    "\n",
    "# '시도' 열에 주소 첫 두 글자 추가\n",
    "df['시도'] = df['주소'].str[:2]\n",
    "\n",
    "# '시군구' 열에 첫 번째와 두 번째 띄어쓰기 사이의 텍스트 추출\n",
    "df['시군구'] = df['주소'].str.extract(r'^\\S+\\s(\\S+)')[0]\n",
    "\n",
    "df['시도+시군구'] = df['시도'] + df['시군구']"
   ]
  },
  {
   "cell_type": "code",
   "execution_count": 25,
   "id": "12acd63d-6ef0-43f9-9298-23d1141d9ea3",
   "metadata": {},
   "outputs": [],
   "source": [
    "df.to_excel('쉐보레_최종.xlsx')"
   ]
  }
 ],
 "metadata": {
  "kernelspec": {
   "display_name": "Python 3 (ipykernel)",
   "language": "python",
   "name": "python3"
  },
  "language_info": {
   "codemirror_mode": {
    "name": "ipython",
    "version": 3
   },
   "file_extension": ".py",
   "mimetype": "text/x-python",
   "name": "python",
   "nbconvert_exporter": "python",
   "pygments_lexer": "ipython3",
   "version": "3.12.7"
  }
 },
 "nbformat": 4,
 "nbformat_minor": 5
}

